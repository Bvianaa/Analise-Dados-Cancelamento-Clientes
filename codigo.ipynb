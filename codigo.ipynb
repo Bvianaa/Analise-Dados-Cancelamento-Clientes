{
 "cells": [
  {
   "cell_type": "markdown",
   "metadata": {},
   "source": [
    "# Python Insights - Analisando Dados \n",
    "\n",
    "### Case - Cancelamento de Clientes\n",
    "\n",
    "Você foi contratado por uma empresa com mais de 800 mil clientes para um projeto de Dados. Recentemente a empresa percebeu que da sua base total de clientes, a maioria são clientes inativos, ou seja, que já cancelaram o serviço.\n",
    "\n",
    "Precisando melhorar seus resultados ela quer conseguir entender os principais motivos desses cancelamentos e quais as ações mais eficientes para reduzir esse número."
   ]
  },
  {
   "cell_type": "code",
   "execution_count": null,
   "metadata": {},
   "outputs": [],
   "source": [
    "# passo 1 - Importar a base de dados \n",
    "# pandas - trabalhar com base de dados \n",
    "# plotly - trabalhar com graficos dinamicos no Python\n",
    "# !pip install pandas numpy openpyxl nbformat ipykernel plotly - instalando biblioteca \n",
    "# as pd no import pandas é um apelido dado para agilizar na hora de codar\n",
    "# main inicial .ipynb sendo ultilizado para ter uma vantagem. visual como \"ex: Display()\"\n",
    "import pandas as pd \n",
    "\n",
    "tabela = pd.read_csv(\"cancelamentos_sample.csv\")\n",
    "\n",
    "# passo 2 - Visualizar a base de dados \n",
    "    # entender quais informações eu tenho disponivel \n",
    "    # procurar os problemas / as cagadas da base de dados\n",
    "# colunas inuteis - indormações que nao te ajuda, te atrapalha\n",
    "# tabela.drop(columns=\"CustomerID\") - server para tirar da tabela a linha expecifica\n",
    "tabela = tabela.drop(columns=\"CustomerID\")\n",
    "display(tabela)"
   ]
  },
  {
   "cell_type": "code",
   "execution_count": null,
   "metadata": {},
   "outputs": [],
   "source": [
    "\n",
    "# passo 3 - corrigir as cagadas da base de dados\n",
    "# tabela = tabela.drop_duplicates()- tirar informações duplicadas \n",
    "# identificando informações vazias ou formato errado\n",
    "display(tabela.info())\n",
    "\n",
    "# tirar da tabela informações vazias \n",
    "tabela = tabela.dropna()\n",
    "display(tabela.info())\n",
    "\n",
    "# int - numero inteiro\n",
    "# float - que pode ter casa decimal (numero quebrado)"
   ]
  },
  {
   "cell_type": "code",
   "execution_count": null,
   "metadata": {},
   "outputs": [],
   "source": [
    "\n",
    "# passo 4 - Analise dos cancelamentos (quantos cancelaram, quantos não cancelaram qual o %)\n",
    "# selecionar uma coluna da tabela e contando os \n",
    "display(tabela[\"cancelou\"].value_counts())\n",
    "\n",
    "# em porcentual = normalizado\n",
    "display(tabela[\"cancelou\"].value_counts(normalize=True))\n"
   ]
  },
  {
   "cell_type": "code",
   "execution_count": null,
   "metadata": {},
   "outputs": [],
   "source": [
    "# passo 5 - analise das causas do cancelamento dos clientes\n",
    "# express  graficos semi prontos / agilidade \n",
    "import plotly.express as px # type: ignore\n",
    "\n",
    "#para cada coluna da nossa tabela\n",
    "for coluna in tabela.columns:\n",
    "    # criar grafico\n",
    "    grafico = px.histogram(tabela, x=coluna, color=\"cancelou\", text_auto=True)\n",
    "    # exibe o grafico\n",
    "    grafico.show()"
   ]
  },
  {
   "cell_type": "code",
   "execution_count": null,
   "metadata": {},
   "outputs": [],
   "source": [
    "#causas de cancelamento\n",
    "\n",
    "# todos os clientes de contrato mensal, cancelaram\n",
    "    #vamos dar desconto nos contratos anuis e trimestrais\n",
    "# todos os clientes com mais de 20 dias de atraso cancelaram o serviço\n",
    "    #criar um sistemas de cobraça dos clientes que com 10 dias de atraso a gente fala todo dia com eles\n",
    "# todos os clientes que ligaram mas de 4x pro call center, cancelaram\n",
    "    #criar um alerta para um cliente que ligou mais de 2x pro call center\n",
    "\n",
    "# analisar se eu resolver esses 3 problemas, quanto cai o cencelamento?\n",
    "#Condição \n",
    "#tabela = tabela[condição]\n",
    "# duração do contrato nao pode ser mensal \n",
    "tabela = tabela[tabela[\"duracao_contrato\"]!=\"Monthly\"]\n",
    "\n",
    "# atraso só podem ser de até 20 dias\n",
    "tabela = tabela[tabela[\"dias_atraso\"]<=20]\n",
    "\n",
    "# ligações no call center só pode ser de até 4 ligações\n",
    "tabela = tabela[tabela[\"ligacoes_callcenter\"]<=4]\n",
    "\n",
    "# em porcentual = normalizado\n",
    "display(tabela[\"cancelou\"].value_counts(normalize=True))\n"
   ]
  }
 ],
 "metadata": {
  "kernelspec": {
   "display_name": "Python 3",
   "language": "python",
   "name": "python3"
  },
  "language_info": {
   "codemirror_mode": {
    "name": "ipython",
    "version": 3
   },
   "file_extension": ".py",
   "mimetype": "text/x-python",
   "name": "python",
   "nbconvert_exporter": "python",
   "pygments_lexer": "ipython3",
   "version": "3.11.9"
  }
 },
 "nbformat": 4,
 "nbformat_minor": 2
}
